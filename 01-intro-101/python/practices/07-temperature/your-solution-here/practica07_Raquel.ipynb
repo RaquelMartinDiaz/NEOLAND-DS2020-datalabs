{
 "cells": [
  {
   "cell_type": "code",
   "execution_count": 1,
   "metadata": {},
   "outputs": [],
   "source": [
    "temperaturas_C = [33,66,65,0,59,60,62,64,70,76,80,69,80,83,68,79,61,53,50,49,53,48,45,39]"
   ]
  },
  {
   "cell_type": "code",
   "execution_count": 3,
   "metadata": {},
   "outputs": [
    {
     "data": {
      "text/plain": [
       "0"
      ]
     },
     "execution_count": 3,
     "metadata": {},
     "output_type": "execute_result"
    }
   ],
   "source": [
    "min(temperaturas_C)\n",
    "    "
   ]
  },
  {
   "cell_type": "code",
   "execution_count": 4,
   "metadata": {},
   "outputs": [
    {
     "data": {
      "text/plain": [
       "83"
      ]
     },
     "execution_count": 4,
     "metadata": {},
     "output_type": "execute_result"
    }
   ],
   "source": [
    "max(temperaturas_C)"
   ]
  },
  {
   "cell_type": "code",
   "execution_count": 6,
   "metadata": {},
   "outputs": [
    {
     "data": {
      "text/plain": [
       "<filter at 0x5cbffb8>"
      ]
     },
     "execution_count": 6,
     "metadata": {},
     "output_type": "execute_result"
    }
   ],
   "source": [
    "filter(lambda temperatura: temperatura >=70, temperaturas_C)"
   ]
  },
  {
   "cell_type": "code",
   "execution_count": 13,
   "metadata": {},
   "outputs": [
    {
     "name": "stdout",
     "output_type": "stream",
     "text": [
      "[70, 76, 80, 80, 83, 79]\n"
     ]
    }
   ],
   "source": [
    "### temperaturas de mas de 70\n",
    "## creo nueva lista con filter y lambda \n",
    "\n",
    "more_than_70 =list(filter(lambda x: x>=70, temperaturas_C))\n",
    "print (more_than_70)"
   ]
  },
  {
   "cell_type": "code",
   "execution_count": 32,
   "metadata": {},
   "outputs": [
    {
     "name": "stdout",
     "output_type": "stream",
     "text": [
      "58.833333333333336\n"
     ]
    }
   ],
   "source": [
    "### media\n",
    "media_temp = (sum(temperaturas_C)/len(temperaturas_C))\n",
    "print(media_temp)"
   ]
  },
  {
   "cell_type": "code",
   "execution_count": 34,
   "metadata": {},
   "outputs": [
    {
     "name": "stdout",
     "output_type": "stream",
     "text": [
      "58.833333333333336\n"
     ]
    }
   ],
   "source": [
    "### calcular el dato faltante\n",
    "### lo sustituiría por la media\n",
    "## como es la 4a posicion lo cambiaria asi\n",
    "temperaturas_C[3]=media_temp\n",
    "print(temperaturas_C[3])\n"
   ]
  },
  {
   "cell_type": "code",
   "execution_count": 41,
   "metadata": {},
   "outputs": [
    {
     "name": "stdout",
     "output_type": "stream",
     "text": [
      "[91.4, 150.8, 149.0, 137.9, 138.2, 140.0, 143.60000000000002, 147.2, 158.0, 168.8, 176.0, 156.2, 176.0, 181.4, 154.4, 174.20000000000002, 141.8, 127.4, 122.0, 120.2, 127.4, 118.4, 113.0, 102.2]\n"
     ]
    }
   ],
   "source": [
    "##pasar a fahrenheit\n",
    "temperaturas_F=[]\n",
    "for i in range(0,len(temperaturas_C)):\n",
    "    temp_F=1.8* temperaturas_C[i]+32\n",
    "    temperaturas_F.append(temp_F)\n",
    "print(temperaturas_F)\n",
    "    \n"
   ]
  },
  {
   "cell_type": "code",
   "execution_count": 42,
   "metadata": {},
   "outputs": [
    {
     "name": "stdout",
     "output_type": "stream",
     "text": [
      "atencion, cambiar sistema de refrigeracion\n"
     ]
    }
   ],
   "source": [
    "## mas de 4 horas con temp sup o iguales a 70\n",
    "if len(more_than_70)>4:\n",
    "    print(\"atencion, cambiar sistema de refrigeracion\")"
   ]
  },
  {
   "cell_type": "code",
   "execution_count": 43,
   "metadata": {},
   "outputs": [
    {
     "name": "stdout",
     "output_type": "stream",
     "text": [
      "[83]\n",
      "atencion, cambiar sistema de refrigeracion\n"
     ]
    }
   ],
   "source": [
    "## calculo temp superiores a 80\n",
    "more_than_80 =list(filter(lambda x: x>80, temperaturas_C))\n",
    "print (more_than_80)\n",
    "if len(more_than_80)!=0:\n",
    "    print(\"atencion, cambiar sistema de refrigeracion\")"
   ]
  },
  {
   "cell_type": "code",
   "execution_count": 44,
   "metadata": {},
   "outputs": [],
   "source": [
    "##media superior a 65\n",
    "if media_temp>65:\n",
    "    print(\"atencion, cambiar sistema de refrigeracion\")"
   ]
  },
  {
   "cell_type": "code",
   "execution_count": null,
   "metadata": {},
   "outputs": [],
   "source": []
  }
 ],
 "metadata": {
  "kernelspec": {
   "display_name": "Python 3",
   "language": "python",
   "name": "python3"
  },
  "language_info": {
   "codemirror_mode": {
    "name": "ipython",
    "version": 3
   },
   "file_extension": ".py",
   "mimetype": "text/x-python",
   "name": "python",
   "nbconvert_exporter": "python",
   "pygments_lexer": "ipython3",
   "version": "3.8.3"
  }
 },
 "nbformat": 4,
 "nbformat_minor": 4
}
