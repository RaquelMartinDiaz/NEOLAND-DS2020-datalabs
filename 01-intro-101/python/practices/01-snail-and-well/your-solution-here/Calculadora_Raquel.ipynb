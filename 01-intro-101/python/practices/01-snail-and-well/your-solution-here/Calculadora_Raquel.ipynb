{
 "cells": [
  {
   "cell_type": "code",
   "execution_count": 2,
   "metadata": {},
   "outputs": [],
   "source": [
    "### cómo hacer una calculadora"
   ]
  },
  {
   "cell_type": "code",
   "execution_count": 4,
   "metadata": {},
   "outputs": [],
   "source": [
    "### creo una lista con las diferentes operaciones\n",
    "menu =[\"+\",\"-\",\"*\",\"/\",\"//\"]"
   ]
  },
  {
   "cell_type": "code",
   "execution_count": null,
   "metadata": {},
   "outputs": [],
   "source": [
    "# pide el primer numero\n",
    "valor1= float(input(\"Introduce el primer numero \"))"
   ]
  },
  {
   "cell_type": "code",
   "execution_count": null,
   "metadata": {},
   "outputs": [],
   "source": [
    "# pide el segundo numero\n",
    "valor2= float(input(\"Introduce el segundo numero \"))"
   ]
  },
  {
   "cell_type": "code",
   "execution_count": null,
   "metadata": {},
   "outputs": [],
   "source": [
    "### funcion en la que mediante operaciones logicas if,elif,else, dependiendo\n",
    "###del valor escogido realiza los calculos\n",
    "\n",
    "operacion=input(\"Elige la operación \")\n",
    "if operacion==\"+\":\n",
    "    print(valor1+valor2)\n",
    "elif operacion==\"-\":\n",
    "    print(valor1 - valor2)\n",
    "elif operacion==\"*\":\n",
    "    print(valor1*valor2)\n",
    "elif operacion==\"/\":\n",
    "    if (valor2!=0):\n",
    "        print(valor1 / valor2)\n",
    "    else:\n",
    "        print(\"error, vuelve a intentarlo\")\n",
    "elif operacion==\"//\":\n",
    "    if (valor2!=0):\n",
    "        print(valor1 // valor2)\n",
    "    else:\n",
    "         print(\"error,vuelve a intentarlo\")\n",
    "else:\n",
    "    input(\"Escoge una operacion correcta\")\n",
    "    \n",
    "   \n",
    "         "
   ]
  },
  {
   "cell_type": "code",
   "execution_count": null,
   "metadata": {},
   "outputs": [],
   "source": []
  },
  {
   "cell_type": "code",
   "execution_count": null,
   "metadata": {},
   "outputs": [],
   "source": []
  }
 ],
 "metadata": {
  "kernelspec": {
   "display_name": "Python 3",
   "language": "python",
   "name": "python3"
  },
  "language_info": {
   "codemirror_mode": {
    "name": "ipython",
    "version": 3
   },
   "file_extension": ".py",
   "mimetype": "text/x-python",
   "name": "python",
   "nbconvert_exporter": "python",
   "pygments_lexer": "ipython3",
   "version": "3.8.3"
  }
 },
 "nbformat": 4,
 "nbformat_minor": 4
}
