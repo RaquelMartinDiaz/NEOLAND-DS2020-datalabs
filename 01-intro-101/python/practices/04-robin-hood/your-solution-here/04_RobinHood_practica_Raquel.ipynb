{
 "cells": [
  {
   "cell_type": "markdown",
   "metadata": {},
   "source": [
    "### practica Robin Hood Raquel"
   ]
  },
  {
   "cell_type": "code",
   "execution_count": 1,
   "metadata": {},
   "outputs": [],
   "source": [
    "## importo random y math"
   ]
  },
  {
   "cell_type": "code",
   "execution_count": 9,
   "metadata": {},
   "outputs": [],
   "source": [
    "import random"
   ]
  },
  {
   "cell_type": "code",
   "execution_count": 10,
   "metadata": {},
   "outputs": [],
   "source": [
    "import math"
   ]
  },
  {
   "cell_type": "markdown",
   "metadata": {},
   "source": [
    "### defino variables que voy a usar"
   ]
  },
  {
   "cell_type": "code",
   "execution_count": 11,
   "metadata": {},
   "outputs": [],
   "source": [
    "diana=0 ##es el numero de aciertos en el (0,0)\n",
    "Q1=0 ##aciertos en el cuadrante Q1\n",
    "Q2=0\n",
    "Q3=0\n",
    "Q4=0\n",
    "fallos =0 ##para contar las veces que no acierta en la diana"
   ]
  },
  {
   "cell_type": "code",
   "execution_count": 70,
   "metadata": {},
   "outputs": [
    {
     "name": "stdout",
     "output_type": "stream",
     "text": [
      "Ha caido a  1.7320508075688772  cm de la diana!\n",
      "han caido  0 flechas en Q1 \n",
      "han caido  0 flechas en Q2 \n",
      "han caido  0 flechas en Q3 \n",
      "han caido  0 flechas en Q4 \n",
      "ha hecho  0  dianas! \n",
      "ha caido  0  veces en el bosque\n"
     ]
    }
   ],
   "source": [
    "##defino dos variables aleatorias, punto sobre X y sobre eje Y\n",
    "## numero entero entre -10 y 10, dado que Robin Hood tiene buena punteria\n",
    "## y el radio de la diana es 9\n",
    "x=random.randint(-10,10)\n",
    "y=random.randint(-10,10)\n",
    "\n",
    "##defino un vector \"flechazo\" con dichas variables\n",
    "flechazo=(x,y)\n",
    "\n",
    "##defino una funcion \n",
    "\n",
    "def flecha(i):\n",
    "    for i in range(10):\n",
    "        flechazo(x,y)\n",
    "        if x<-9 or x>9 or y<-9 or y>9: ##si la flecha cae fuera de la diana\n",
    "            fallos=fallos+1\n",
    "        elif x>0 & y>0:\n",
    "            Q1=Q1+1\n",
    "        elif x<0 & y>0:\n",
    "            Q2=Q2+1\n",
    "        elif x<0 & y<0:\n",
    "            Q3=Q3+1\n",
    "        elif x>0 & y<0:\n",
    "            Q4=Q4+1\n",
    "        else:\n",
    "            diana=diana+1 ##en otro caso sería diana\n",
    "        \n",
    "        ## calculo la distancia al centro de la diana\n",
    "        \n",
    "## distancia=math.sqrt(x^2 + y^2)\n",
    "print(\"Ha caido a \" ,distancia , \" cm de la diana!\")\n",
    "        \n",
    "## imprime las veces que ha acertado en cada cuadrante, las dianas y los fallos\n",
    "print(\"han caido \",Q1, \"flechas en Q1 \\n\"\n",
    "    \"han caido \",Q2 ,\"flechas en Q2 \\n\"\n",
    "     \"han caido \",Q3, \"flechas en Q3 \\n\"\n",
    "     \"han caido \",Q4, \"flechas en Q4 \\n\"\n",
    "     \"ha hecho \", diana,\" dianas! \\n\"\n",
    "     \"ha caido \", fallos,\" veces en el bosque\")\n",
    "\n",
    "\n",
    "\n",
    "          "
   ]
  },
  {
   "cell_type": "code",
   "execution_count": 68,
   "metadata": {},
   "outputs": [
    {
     "data": {
      "text/plain": [
       "7"
      ]
     },
     "execution_count": 68,
     "metadata": {},
     "output_type": "execute_result"
    }
   ],
   "source": [
    "x"
   ]
  },
  {
   "cell_type": "code",
   "execution_count": 69,
   "metadata": {},
   "outputs": [
    {
     "data": {
      "text/plain": [
       "0"
      ]
     },
     "execution_count": 69,
     "metadata": {},
     "output_type": "execute_result"
    }
   ],
   "source": [
    "y"
   ]
  }
 ],
 "metadata": {
  "kernelspec": {
   "display_name": "Python 3",
   "language": "python",
   "name": "python3"
  },
  "language_info": {
   "codemirror_mode": {
    "name": "ipython",
    "version": 3
   },
   "file_extension": ".py",
   "mimetype": "text/x-python",
   "name": "python",
   "nbconvert_exporter": "python",
   "pygments_lexer": "ipython3",
   "version": "3.8.3"
  }
 },
 "nbformat": 4,
 "nbformat_minor": 4
}
