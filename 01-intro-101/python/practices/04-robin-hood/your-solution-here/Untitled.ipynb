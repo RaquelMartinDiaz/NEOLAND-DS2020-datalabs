{
 "cells": [
  {
   "cell_type": "code",
   "execution_count": 30,
   "metadata": {},
   "outputs": [],
   "source": [
    "### pasar de hexadecimal a decimal\n",
    "#defino los valores de A-F equivalentes \n",
    "def letras(x):\n",
    "    if x==\"A\":\n",
    "        return 10\n",
    "    elif x==\"B\":\n",
    "        return 11\n",
    "    elif x==\"C\":\n",
    "        return 12\n",
    "    elif x==\"D\":\n",
    "        return 13\n",
    "    elif x==\"E\":\n",
    "        return 14\n",
    "    elif x==\"F\":\n",
    "        return 15\n",
    "\n",
    "import math    "
   ]
  },
  {
   "cell_type": "code",
   "execution_count": 32,
   "metadata": {},
   "outputs": [
    {
     "ename": "SyntaxError",
     "evalue": "invalid syntax (<ipython-input-32-d4e1a7746285>, line 2)",
     "output_type": "error",
     "traceback": [
      "\u001b[1;36m  File \u001b[1;32m\"<ipython-input-32-d4e1a7746285>\"\u001b[1;36m, line \u001b[1;32m2\u001b[0m\n\u001b[1;33m    for i in range(len(hexa_deci(x)):\u001b[0m\n\u001b[1;37m                                    ^\u001b[0m\n\u001b[1;31mSyntaxError\u001b[0m\u001b[1;31m:\u001b[0m invalid syntax\n"
     ]
    }
   ],
   "source": [
    "def hexa_deci(x):\n",
    "    for i in range(len(hexa_deci(x))\n",
    "        math.sum(x*(16^len(hexa_deci-i)))\n",
    "        \n",
    "        "
   ]
  },
  {
   "cell_type": "code",
   "execution_count": 19,
   "metadata": {},
   "outputs": [],
   "source": [
    "s=\"654ABCC7\"\n",
    "i=int(s,16)"
   ]
  },
  {
   "cell_type": "code",
   "execution_count": 20,
   "metadata": {},
   "outputs": [
    {
     "data": {
      "text/plain": [
       "1699396807"
      ]
     },
     "execution_count": 20,
     "metadata": {},
     "output_type": "execute_result"
    }
   ],
   "source": [
    "i"
   ]
  },
  {
   "cell_type": "code",
   "execution_count": 46,
   "metadata": {},
   "outputs": [
    {
     "name": "stdout",
     "output_type": "stream",
     "text": [
      "  ['kljdsfakljdskf']\n"
     ]
    }
   ],
   "source": [
    "cadena=str(\"kljdsfakljdskf\")\n",
    "k=int(4)\n",
    "separador=cadena.splitlines(4)\n",
    "print(\" \",separador)"
   ]
  },
  {
   "cell_type": "code",
   "execution_count": 57,
   "metadata": {},
   "outputs": [
    {
     "name": "stdout",
     "output_type": "stream",
     "text": [
      "('A  ABB  CCE  DJD', 'A  ABB  CCE  DJD')\n"
     ]
    }
   ],
   "source": [
    "def dividir_cadena(cadena, separador, n):\n",
    "    cifra = \"\"\n",
    "    contador = 0\n",
    "    for numero in cadena[::-1]:\n",
    "        if contador == n:\n",
    "            cifra += separador\n",
    "            contador = 0\n",
    "            \n",
    "        contador += 1\n",
    "        cifra += numero\n",
    "\n",
    "    return (cifra[::-1], \"\".join(reversed(cifra)))\n",
    "\n",
    "funcion = dividir_cadena(\"AABBCCEDJD\", \"  \" , 3)\n",
    "print(funcion)"
   ]
  },
  {
   "cell_type": "code",
   "execution_count": null,
   "metadata": {},
   "outputs": [],
   "source": [
    "### numero primo o no\n",
    "divisible==False\n",
    "def primo():\n",
    "    for i to (2:x-1):\n",
    "        "
   ]
  },
  {
   "cell_type": "code",
   "execution_count": null,
   "metadata": {},
   "outputs": [],
   "source": [
    "divisible = False\n",
    "x=15\n",
    "def primo(x):\n",
    "    for i in (2,x-1):\n",
    "        if x%i !=0:\n",
    "            print(not divisible)\n",
    "        else:\n",
    "            print(divisible)"
   ]
  },
  {
   "cell_type": "code",
   "execution_count": null,
   "metadata": {},
   "outputs": [],
   "source": []
  }
 ],
 "metadata": {
  "kernelspec": {
   "display_name": "Python 3",
   "language": "python",
   "name": "python3"
  },
  "language_info": {
   "codemirror_mode": {
    "name": "ipython",
    "version": 3
   },
   "file_extension": ".py",
   "mimetype": "text/x-python",
   "name": "python",
   "nbconvert_exporter": "python",
   "pygments_lexer": "ipython3",
   "version": "3.8.3"
  }
 },
 "nbformat": 4,
 "nbformat_minor": 4
}
