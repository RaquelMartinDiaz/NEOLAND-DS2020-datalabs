{
 "cells": [
  {
   "cell_type": "code",
   "execution_count": 2,
   "metadata": {},
   "outputs": [],
   "source": [
    "# Importa la función choice del módulo random\n",
    "# https://stackoverflow.com/questions/306400/how-to-randomly-select-an-item-from-a-list\n",
    "from random import choice"
   ]
  },
  {
   "cell_type": "code",
   "execution_count": 3,
   "metadata": {},
   "outputs": [],
   "source": [
    "# Asigna a una lista las 3 posibles opciones: 'piedra', 'papel' o 'tijeras'.\n",
    "### he puesto 6 opciones por si escriben la primera en mayusculas\n",
    "\n",
    "juego=[\"piedra\",\"papel\",\"tijeras\",\"Piedra\",\"Papel\",\"Tijeras\"]"
   ]
  },
  {
   "cell_type": "code",
   "execution_count": 4,
   "metadata": {},
   "outputs": [],
   "source": [
    "# Asigna una variable al número de partidas máxima: 1, 3, 5, etc...\n",
    "\n",
    "num_max=int(5)\n"
   ]
  },
  {
   "cell_type": "code",
   "execution_count": 5,
   "metadata": {},
   "outputs": [],
   "source": [
    "# Asigna una variable al número de partidas que debe ganar un jugador para ganar. \n",
    "# Preferiblemente el valor será en función de el número de partidas máximas\n",
    "\n",
    "num_part_gan=round((num_max/2)+1)"
   ]
  },
  {
   "cell_type": "code",
   "execution_count": 10,
   "metadata": {},
   "outputs": [
    {
     "data": {
      "text/plain": [
       "'papel'"
      ]
     },
     "execution_count": 10,
     "metadata": {},
     "output_type": "execute_result"
    }
   ],
   "source": [
    "# Define una función que devuelva aleatoriamente una de las 3 opciones. \n",
    "# Esto corresponderá a la jugada de la máquina. Totalmente aleatoria. \n",
    "\n",
    "def jugada_maquina():\n",
    "    jugadam= choice(juego)\n",
    "    return(jugadam)\n",
    "\n",
    "jugada_maquina()\n"
   ]
  },
  {
   "cell_type": "code",
   "execution_count": 11,
   "metadata": {},
   "outputs": [
    {
     "name": "stdin",
     "output_type": "stream",
     "text": [
      "¿Piedra, papel o tijeras? piedras\n",
      "Elige una respuesta correcta: ¿piedra, papel o tijeras? piedra\n"
     ]
    },
    {
     "data": {
      "text/plain": [
       "'piedra'"
      ]
     },
     "execution_count": 11,
     "metadata": {},
     "output_type": "execute_result"
    }
   ],
   "source": [
    "# Define una función que pregunte tu elección: 'piedra', 'papel' o 'tijeras'\n",
    "# sólo debe permitir una de las 3 opciones. Esto es programación defensiva. \n",
    "# Si no es piedra, papel o tijeras sigue preguntando hasta que lo sea. \n",
    "def jugada_persona():\n",
    "    jugada=input(\"¿Piedra, papel o tijeras?\")\n",
    "    if jugada in juego:\n",
    "            return(jugada)\n",
    "    else:\n",
    "        jugada=input(\"Elige una respuesta correcta: ¿piedra, papel o tijeras?\")\n",
    "        while jugada not in juego:\n",
    "            jugada=input(\"Elige una respuesta correcta: ¿piedra, papel o tijeras?\")\n",
    "        return(jugada)\n",
    "   \n",
    "    \n",
    "jugada_persona()"
   ]
  },
  {
   "cell_type": "code",
   "execution_count": 15,
   "metadata": {},
   "outputs": [
    {
     "name": "stdin",
     "output_type": "stream",
     "text": [
      "¿Piedra, papel o tijeras? papel\n"
     ]
    },
    {
     "name": "stdout",
     "output_type": "stream",
     "text": [
      "2: has ganado\n"
     ]
    }
   ],
   "source": [
    "# Define una función que resuelva un combate. \n",
    "# Devuelve 0 si hay empate, 1 si gana la máquina, 2 si gana el jugador humano \n",
    "\n",
    "def ganador():\n",
    "        jugadam=choice(juego)\n",
    "        jugada=input(\"¿Piedra, papel o tijeras?\")\n",
    "        if jugadam==(\"tijeras\"or\"Tijeras\") and jugada==(\"tijeras\"or\"Tijeras\"):\n",
    "            print(\"0: empate\")\n",
    "        elif jugadam==(\"tijeras\"or\"Tijeras\") and jugada==(\"papel\"or\"Papel\"):\n",
    "            print(\"1: gana maquina\")\n",
    "        elif jugadam==(\"tijeras\"or\"Tijeras\") and jugada==(\"piedra\"or\"Piedra\"):\n",
    "            print(\"2: has ganado\")\n",
    "        elif jugadam==(\"papel\"or\"Papel\") and jugada==(\"tijeras\"or\"Tijeras\"):\n",
    "            print(\"2: has ganado\")\n",
    "        elif jugadam==(\"papel\"or\"Papel\") and jugada==(\"papel\"or\"Papel\"):\n",
    "            print(\"0: empate\")\n",
    "        elif jugadam==(\"papel\"or\"Papel\") and jugada==(\"piedra\"or\"Piedra\"):\n",
    "            print(\"1: gana maquina\")\n",
    "        elif jugadam==(\"piedra\"or\"Piedra\") and jugada==(\"piedra\"or\"Piedra\"):\n",
    "            print(\"0: empate\")\n",
    "        elif jugadam==(\"piedra\"or\"Piedra\") and jugada==(\"tijeras\"or\"Tijeras\"):\n",
    "            print(\"1: gana maquina\")\n",
    "        else:\n",
    "            print(\"2: has ganado\")\n",
    "\n",
    "ganador()"
   ]
  },
  {
   "cell_type": "code",
   "execution_count": 17,
   "metadata": {},
   "outputs": [
    {
     "name": "stdin",
     "output_type": "stream",
     "text": [
      "¿Piedra, papel o tijeras? piedras\n",
      "Elige una respuesta correcta: ¿piedra, papel o tijeras? piedra\n"
     ]
    },
    {
     "name": "stdout",
     "output_type": "stream",
     "text": [
      "2: has ganado\n"
     ]
    }
   ],
   "source": [
    "# Define una función que muestre la elección de cada jugador y el estado de la partida\n",
    "# Esta función debe utilizarse cada vez que se actualicen los puntos acumulados\n",
    "from random import choice\n",
    "juego=[\"piedra\",\"papel\",\"tijeras\",\"Piedra\",\"Papel\",\"Tijeras\"]\n",
    "def jugada_maquina():\n",
    "    global jugadam ##la hago global para usarla en otra funcion\n",
    "    jugadam=choice(juego)\n",
    "\n",
    "def jugada_persona():\n",
    "    global jugada ##la hago global para usarla en otra funcion\n",
    "    jugada=input(\"¿Piedra, papel o tijeras?\")\n",
    "    if jugada in juego:\n",
    "        return(jugada)\n",
    "    else:\n",
    "        jugada=input(\"Elige una respuesta correcta: ¿piedra, papel o tijeras?\")\n",
    "        while jugada not in juego:\n",
    "             jugada=input(\"Elige una respuesta correcta: ¿piedra, papel o tijeras?\")\n",
    "        return(jugada)\n",
    "def ganador():\n",
    "    if jugadam==(\"tijeras\"or\"Tijeras\") and jugada==(\"tijeras\"or\"Tijeras\"):\n",
    "        print(\"0: empate\")\n",
    "    elif jugadam==(\"tijeras\"or\"Tijeras\") and jugada==(\"papel\"or\"Papel\"):\n",
    "        print(\"1: gana maquina\")\n",
    "    elif jugadam==(\"tijeras\"or\"Tijeras\") and jugada==(\"piedra\"or\"Piedra\"):\n",
    "        print(\"2: has ganado\")\n",
    "    elif jugadam==(\"papel\"or\"Papel\") and jugada==(\"tijeras\"or\"Tijeras\"):\n",
    "        print(\"2: has ganado\")\n",
    "    elif jugadam==(\"papel\"or\"Papel\") and jugada==(\"papel\"or\"Papel\"):\n",
    "        print(\"0: empate\")\n",
    "    elif jugadam==(\"papel\"or\"Papel\") and jugada==(\"piedra\"or\"Piedra\"):\n",
    "        print(\"1: gana maquina\")\n",
    "    elif jugadam==(\"piedra\"or\"Piedra\") and jugada==(\"piedra\"or\"Piedra\"):\n",
    "        print(\"0: empate\")\n",
    "    elif jugadam==(\"piedra\"or\"Piedra\") and jugada==(\"tijeras\"or\"Tijeras\"):\n",
    "        print(\"1: gana maquina\")\n",
    "    else:\n",
    "        print(\"2: has ganado\")\n",
    "\n",
    "jugada_maquina()\n",
    "jugada_persona()\n",
    "ganador()"
   ]
  },
  {
   "cell_type": "code",
   "execution_count": 18,
   "metadata": {},
   "outputs": [],
   "source": [
    "# Crea dos variables que acumulen las partidas ganadas de cada participante\n",
    "\n",
    "ganador_acum=0\n",
    "perdedor_acum=0\n"
   ]
  },
  {
   "cell_type": "code",
   "execution_count": null,
   "metadata": {},
   "outputs": [],
   "source": []
  }
 ],
 "metadata": {
  "kernelspec": {
   "display_name": "Python 3",
   "language": "python",
   "name": "python3"
  },
  "language_info": {
   "codemirror_mode": {
    "name": "ipython",
    "version": 3
   },
   "file_extension": ".py",
   "mimetype": "text/x-python",
   "name": "python",
   "nbconvert_exporter": "python",
   "pygments_lexer": "ipython3",
   "version": "3.8.3"
  }
 },
 "nbformat": 4,
 "nbformat_minor": 4
}
