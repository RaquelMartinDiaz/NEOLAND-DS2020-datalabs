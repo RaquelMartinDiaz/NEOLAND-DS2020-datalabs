{
 "cells": [
  {
   "cell_type": "markdown",
   "metadata": {},
   "source": [
    "# Python desafía\n",
    "### Programa dados"
   ]
  },
  {
   "cell_type": "code",
   "execution_count": null,
   "metadata": {},
   "outputs": [],
   "source": [
    "\n",
    "Recompile el juego de adivinación de números, pero esta vez:\n",
    "\n",
    "- Muestre el número del intento actual.\n",
    "- Si el número propuesto es demasiado bajo, indíquele al usuario \"El número es demasiado bajo, vuelva a intentarlo\".\n",
    "- Si el número propuesto es demasiado alto, indíquele al usuario \"El número es demasiado alto, vuelva a intentarlo\".\n",
    "- Si el usuario escribe un valor no numérico, indíquele al usuario \"Introduzca solo números\".\n",
    "\n",
    "Además, tome nota de la salida. Las solicitudes y los mensajes han cambiado en comparación con el desafío original.\n",
    "\n",
    "Independientemente de cómo lo haga, el código debería producir una salida similar a la siguiente (debido a la respuesta y a las suposiciones generadas aleatoriamente):\n",
    "\n",
    "\n",
    "```output\n",
    "Guess a number between 1 and 10\n",
    "Enter guess #1: 5\n",
    "Your guess is too low, try again!\n",
    "Enter guess #2: 8\n",
    "Your guess is too high, try again!\n",
    "Enter guess #3: 7\n",
    "Your guess is too high, try again!\n",
    "Enter guess #4: 6\n",
    "You guessed it in 4 tries!\n",
    "```\n",
    "\n",
    "Si el usuario escribe un valor que no es numérico, muestre un mensaje de error. En la siguiente salida de ejemplo, el usuario escribe algunas cadenas y se le recuerda que solo debe introducir números.\n",
    "\n",
    "\n",
    "```output\n",
    "Guess a number between 1 and 10\n",
    "Enter guess #1: Bob\n",
    "Numbers only, please!\n",
    "Enter guess #2: Beth\n",
    "Numbers only, please!\n",
    "Enter guess #3: 5\n",
    "You guessed it in 3 tries!"
   ]
  },
  {
   "cell_type": "code",
   "execution_count": null,
   "metadata": {},
   "outputs": [],
   "source": [
    "# Importamos las librerias\n",
    "import random\n",
    "\n",
    "\n",
    "#Declaramos las variables\n",
    "value = random.randint(1,10)\n",
    "count = 0\n",
    "guess = 0\n",
    "\n",
    "# Creamos el iterador\n",
    "while guess != value:\n",
    "    count+= 1 # incremento\n",
    "    guess = input(\"Adivina un numero entre 1 y 10. Llevas \" + str(count) + \" intentos\")\n",
    "    if guess.isnumeric() and int(guess) < value:\n",
    "        guess = int(guess)\n",
    "        print(\"El número es demasiado bajo, vuelva a intentarlo\")\n",
    "    elif guess.isnumeric() and int(guess) > value:\n",
    "        guess = int(guess)\n",
    "        print(\"El número es demasiado alto, vuelva a intentarlo\")\n",
    "    elif not guess.isnumeric():\n",
    "        print(\"Introduzca solo números\")\n",
    "    elif guess.isnumeric() and int(guess) == value:\n",
    "        guess = int(guess)\n",
    "        print(\"has adivinadoen {} ocasiones!\".format(count))"
   ]
  }
 ],
 "metadata": {
  "kernelspec": {
   "display_name": "Python 3",
   "language": "python",
   "name": "python3"
  },
  "language_info": {
   "codemirror_mode": {
    "name": "ipython",
    "version": 3
   },
   "file_extension": ".py",
   "mimetype": "text/x-python",
   "name": "python",
   "nbconvert_exporter": "python",
   "pygments_lexer": "ipython3",
   "version": "3.7.6"
  }
 },
 "nbformat": 4,
 "nbformat_minor": 4
}
