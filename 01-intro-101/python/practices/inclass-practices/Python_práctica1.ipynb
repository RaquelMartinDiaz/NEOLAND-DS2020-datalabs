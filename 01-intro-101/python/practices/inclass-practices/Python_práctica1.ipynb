{
 "cells": [
  {
   "cell_type": "markdown",
   "metadata": {},
   "source": [
    "# Python desafío\n",
    "## Programa convertidor Fahrenheit a Celsius\n",
    "\n",
    "Escribir un programa que convierta la temperatura de Fahrenheit a Celsius\n",
    "\n",
    "En este código se muestra la fórmula matemática para convertir una temperatura medida en grados Fahrenheit a una temperatura medida en grados Celsius:\n",
    "\n",
    "Copiar\n",
    "```{pseudo-code}\n",
    "celsius = (fahrenheit - 32) * 5/9\n",
    "```\n",
    "Use esta fórmula para compilar un programa que solicite a los usuarios una temperatura en grados Fahrenheit, realice la conversión a Celsius y, después, muestre la temperatura en grados Celsius.\n",
    "\n",
    "Si el usuario escribe el valor 55, el programa debe generar este resultado:\n",
    "\n",
    "ResultadosCopiar\n",
    "```{pseudo-code}\n",
    "What is the temperature in fahrenheit?  55\n",
    "Temperature in celsius is 12\n",
    "```\n",
    "Pero si el usuario escribe un valor no válido, el programa debe indicarle que hay un problema y, después, cerrar el programa. En este caso, si el usuario escribe el valor Bob, el programa debe generar este resultado:\n",
    "\n",
    "ResultadosCopiar\n",
    "```{pseudo-code}\n",
    "What is the temperature in fahrenheit?  bob\n",
    "Input is not a number.\n",
    "```\n",
    "Nota\n",
    "\n",
    "Para comprobar el trabajo, use un conversor de temperatura en línea y confirme que el resultado del programa coincide con el del conversor.\n",
    "\n",
    "Tanto si tiene dificultades y necesita echar un vistazo a la solución como si finaliza el ejercicio correctamente, continúe para ver una solución a este desafío.\n",
    "para comprobar el trabajo, use un conversor de temperatura en línea y confirme que el resultado del programa coincide con el del conversor.\n",
    "Tanto si tiene dificultades y necesita echar un vistazo a la solución."
   ]
  },
  {
   "cell_type": "code",
   "execution_count": 19,
   "metadata": {},
   "outputs": [
    {
     "name": "stdout",
     "output_type": "stream",
     "text": [
      "Introduce una temperatura en grados Fahrenheit 55\n",
      "La temperatura en celsius es12.777777777777779\n"
     ]
    }
   ],
   "source": [
    "fahrenheit = input(\"Introduce una temperatura en grados Fahrenheit \")\n",
    "if fahrenheit.isnumeric():\n",
    "    celsius = (int(fahrenheit) - 32) * 5/9\n",
    "    print(\"La temperatura en celsius es\" + str(celsius))\n",
    "else:\n",
    "    print(\"No es un valor válido\")"
   ]
  },
  {
   "cell_type": "code",
   "execution_count": 18,
   "metadata": {},
   "outputs": [],
   "source": [
    "def calculo_celsius():\n",
    "    fahrenheit = input(\"Introduce una temperatura en grados Fahrenheit \")\n",
    "    if fahrenheit.isnumeric():\n",
    "        celsius = (int(fahrenheit) - 32) * 5/9\n",
    "        print(\"La temperatura en celsius es\" + str(celsius))\n",
    "    else:\n",
    "        print(\"No es un valor válido\")"
   ]
  },
  {
   "cell_type": "code",
   "execution_count": 20,
   "metadata": {},
   "outputs": [
    {
     "name": "stdout",
     "output_type": "stream",
     "text": [
      "Introduce una temperatura en grados Fahrenheit bob\n",
      "No es un valor válido\n"
     ]
    }
   ],
   "source": [
    "calculo_celsius()"
   ]
  }
 ],
 "metadata": {
  "kernelspec": {
   "display_name": "Python 3",
   "language": "python",
   "name": "python3"
  },
  "language_info": {
   "codemirror_mode": {
    "name": "ipython",
    "version": 3
   },
   "file_extension": ".py",
   "mimetype": "text/x-python",
   "name": "python",
   "nbconvert_exporter": "python",
   "pygments_lexer": "ipython3",
   "version": "3.7.6"
  }
 },
 "nbformat": 4,
 "nbformat_minor": 4
}
