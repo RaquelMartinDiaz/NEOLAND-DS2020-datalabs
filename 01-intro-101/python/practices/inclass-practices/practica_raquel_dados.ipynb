{
 "cells": [
  {
   "cell_type": "code",
   "execution_count": 1,
   "metadata": {},
   "outputs": [
    {
     "ename": "SyntaxError",
     "evalue": "invalid syntax (<ipython-input-1-42c496e7a949>, line 14)",
     "output_type": "error",
     "traceback": [
      "\u001b[1;36m  File \u001b[1;32m\"<ipython-input-1-42c496e7a949>\"\u001b[1;36m, line \u001b[1;32m14\u001b[0m\n\u001b[1;33m    guess = int(guess):\u001b[0m\n\u001b[1;37m                      ^\u001b[0m\n\u001b[1;31mSyntaxError\u001b[0m\u001b[1;31m:\u001b[0m invalid syntax\n"
     ]
    }
   ],
   "source": [
    "#### Importamos las librerias\n",
    "import random\n",
    "\n",
    "# Declaramos las variables\n",
    "value = random.randint(1,10)\n",
    "count = 0\n",
    "guess = 0\n",
    "\n",
    "# Creamos el iterador\n",
    "while guess != value:\n",
    "    count += 1 # incrementa uno cada vez que se falle\n",
    "    guess = input(\"Adivina un numero entre 1 y 10:\")\n",
    "    if guess.isnumeric():\n",
    "        guess = int(guess):\n",
    "        guess < value:\n",
    "        print (\"enter guess #\" count) \n",
    "        else:\n",
    "         print (\"enter guess #\") and print (count) and print( \"Your guess is too high\")\n",
    "else:\n",
    "    print(\"has adivinado en {} ocasiones!\".format(count))"
   ]
  },
  {
   "cell_type": "code",
   "execution_count": 7,
   "metadata": {},
   "outputs": [
    {
     "ename": "IndentationError",
     "evalue": "expected an indented block (<ipython-input-7-0b8a56858c20>, line 16)",
     "output_type": "error",
     "traceback": [
      "\u001b[1;36m  File \u001b[1;32m\"<ipython-input-7-0b8a56858c20>\"\u001b[1;36m, line \u001b[1;32m16\u001b[0m\n\u001b[1;33m    print (\"Intento número #\")\u001b[0m\n\u001b[1;37m    ^\u001b[0m\n\u001b[1;31mIndentationError\u001b[0m\u001b[1;31m:\u001b[0m expected an indented block\n"
     ]
    }
   ],
   "source": [
    "#### Importamos las librerias\n",
    "import random\n",
    "\n",
    "# Declaramos las variables\n",
    "value = random.randint(1,10)\n",
    "count = 0\n",
    "guess = 0\n",
    "\n",
    "# Creamos el iterador\n",
    "while guess != value:\n",
    "    count += 1 # incrementa uno cada vez que se falle\n",
    "    guess = input(\"Adivina un numero entre 1 y 10:\")\n",
    "    if guess.isnumeric():\n",
    "        guess = int(guess)\n",
    "        if guess < value:\n",
    "        print (\"Intento número #\")\n",
    "        print (count)\n",
    "        print (\"tu número es demasiado bajo\")\n",
    "        elif guess > value:\n",
    "            print (\"Intento número #\")\n",
    "            print (count)\n",
    "            print( \"tu número es demasiado alto\")\n",
    "else:\n",
    "    print(\"has adivinado en {} ocasiones!\".format(count))"
   ]
  },
  {
   "cell_type": "code",
   "execution_count": null,
   "metadata": {},
   "outputs": [],
   "source": []
  },
  {
   "cell_type": "code",
   "execution_count": null,
   "metadata": {},
   "outputs": [],
   "source": []
  }
 ],
 "metadata": {
  "kernelspec": {
   "display_name": "Python 3",
   "language": "python",
   "name": "python3"
  },
  "language_info": {
   "codemirror_mode": {
    "name": "ipython",
    "version": 3
   },
   "file_extension": ".py",
   "mimetype": "text/x-python",
   "name": "python",
   "nbconvert_exporter": "python",
   "pygments_lexer": "ipython3",
   "version": "3.8.3"
  }
 },
 "nbformat": 4,
 "nbformat_minor": 4
}
