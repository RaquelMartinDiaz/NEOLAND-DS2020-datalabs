{
 "cells": [
  {
   "cell_type": "markdown",
   "metadata": {},
   "source": [
    "# Python desafío\n",
    "### Calculadora\n",
    "Cree una calculadora sencilla que acepte un primer número, una operación y un segundo número.\n",
    "\n",
    "Este es un resultado de ejemplo, en el que un usuario ha escrito 4, ** y 5* en los cuadros de entrada:\n",
    "\n",
    "```{pseudo-code}\n",
    "Simple calculator!\n",
    "First number? 4\n",
    "Operation? *\n",
    "Second number? 5\n",
    "product of 4 * 5 equals 20\n",
    "```\n",
    "El programa debe aceptar un símbolo, como el símbolo de asterisco (*), para realizar una multiplicación y generar un producto. Asegúrese de implementar lógica para estos resultados:\n",
    "\n",
    "Suma\n",
    "Resta\n",
    "Multiplicación\n",
    "Cociente\n",
    "Exponente\n",
    "Módulo\n",
    "Si el usuario no escribe un valor numérico, muestre este mensaje:\n",
    "\n",
    "```{pseudo-code}\n",
    "Please input a number.\n",
    "```\n",
    "Si el usuario escribe una operación que no se reconoce, muestre este mensaje:\n",
    "\n",
    "```{pseudo-code}\n",
    "Operation not recognized.\n",
    "```\n",
    "Tanto si tiene dificultades y necesita echar un vistazo a la solución como si finaliza el ejercicio correctamente, continúe para ver una solución a este desafío.\n"
   ]
  },
  {
   "cell_type": "code",
   "execution_count": 14,
   "metadata": {},
   "outputs": [
    {
     "name": "stdout",
     "output_type": "stream",
     "text": [
      "Escribe un número 2\n",
      "Escribe un segundo número 4\n",
      "¿Qué operación quieres hacer con estos números?4\n",
      "Operación numérica no reconocida, introduzca una por favor\n"
     ]
    }
   ],
   "source": [
    "primer_numero = input(\"Escribe un número \")\n",
    "segundo_numero = input(\"Escribe un segundo número \")\n",
    "\n",
    "if primer_numero.isnumeric() and segundo_numero.isnumeric():\n",
    "    operacion = input(\"¿Qué operación quieres hacer con estos números?\")\n",
    "    if operacion == \"*\":\n",
    "        producto = int(primer_numero) * int(segundo_numero)\n",
    "        print(\"Operación exitosa, el producto del número \" + str(primer_numero) + \" y el número \" + str(segundo_numero) + \" es: \" + str(producto))\n",
    "    elif operacion == \"/\":\n",
    "        cociente = int(primer_numero) / int(segundo_numero)\n",
    "        print(\"Operación exitosa, el cociente del número \" + str(primer_numero) + \" y el número \" + str(segundo_numero) + \" es: \" + str(cociente))\n",
    "    elif operacion == \"+\":\n",
    "        suma = int(primer_numero) + int(segundo_numero)\n",
    "        print(\"Operación exitosa, la suma del número \" + str(primer_numero) + \" y el número \" + str(segundo_numero) + \" es: \" + str(suma))\n",
    "    elif operacion == \"-\":\n",
    "        resta = int(primer_numero) - int(segundo_numero)\n",
    "        print(\"Operación exitosa, la resta del número \" + str(primer_numero) + \" y el número \" + str(segundo_numero) + \" es: \" + str(resta))\n",
    "    elif operacion == \"%\":\n",
    "        modulo = int(primer_numero) % int(segundo_numero)\n",
    "        print(\"Operación exitosa, el modulo del número \" + str(primer_numero) + \" y el número \" + str(segundo_numero) + \" es: \" + str(modulo))\n",
    "    elif operacion == \"**\":\n",
    "        exponente = int(primer_numero) ** int(segundo_numero)\n",
    "        print(\"Operación exitosa, el exponente del número \" + str(primer_numero) + \" y el número \" + str(segundo_numero) + \" es: \" + str(exponente))\n",
    "    else:\n",
    "        print(\"Operación numérica no reconocida, introduzca una por favor\")\n",
    "else:\n",
    "    print(\"Introduce valores numéricos en primer_numero y segundo_numero\")"
   ]
  },
  {
   "cell_type": "markdown",
   "metadata": {},
   "source": []
  },
  {
   "cell_type": "code",
   "execution_count": null,
   "metadata": {},
   "outputs": [],
   "source": []
  }
 ],
 "metadata": {
  "kernelspec": {
   "display_name": "Python 3",
   "language": "python",
   "name": "python3"
  },
  "language_info": {
   "codemirror_mode": {
    "name": "ipython",
    "version": 3
   },
   "file_extension": ".py",
   "mimetype": "text/x-python",
   "name": "python",
   "nbconvert_exporter": "python",
   "pygments_lexer": "ipython3",
   "version": "3.7.6"
  }
 },
 "nbformat": 4,
 "nbformat_minor": 4
}
