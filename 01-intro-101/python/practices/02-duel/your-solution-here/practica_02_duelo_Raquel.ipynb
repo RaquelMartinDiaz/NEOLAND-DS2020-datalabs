{
 "cells": [
  {
   "cell_type": "code",
   "execution_count": 1,
   "metadata": {},
   "outputs": [],
   "source": [
    "gandalf = [10, 11, 13, 30, 22, 11, 10, 33, 22, 22]\n",
    "saruman = [23, 66, 12, 43, 12, 10, 44, 23, 12, 17]"
   ]
  },
  {
   "cell_type": "code",
   "execution_count": 2,
   "metadata": {},
   "outputs": [],
   "source": [
    "## creo dos variables con la suma de choques ganados, inicialmente 0\n",
    "gana_gandalf=0\n",
    "gana_saruman=0"
   ]
  },
  {
   "cell_type": "code",
   "execution_count": 3,
   "metadata": {},
   "outputs": [
    {
     "name": "stdout",
     "output_type": "stream",
     "text": [
      "Saruman gana\n",
      "Saruman gana\n",
      "Gandalf gana\n",
      "Saruman gana\n",
      "Gandalf gana\n",
      "Gandalf gana\n",
      "Saruman gana\n",
      "Gandalf gana\n",
      "Gandalf gana\n",
      "Gandalf gana\n"
     ]
    }
   ],
   "source": [
    "### mido el numero de posiciones de las variables con len\n",
    "for i in range(len(gandalf)):\n",
    "    if gandalf[i]>saruman[i]:\n",
    "        print(\"Gandalf gana\")\n",
    "        gana_gandalf==gana_gandalf+1\n",
    "    elif gandalf[i]<saruman[i]:\n",
    "        print(\"Saruman gana\")\n",
    "        gana_saruman==gana_saruman+1\n",
    "    else:\n",
    "        print(\"Empate\")\n",
    "        \n",
    "        "
   ]
  },
  {
   "cell_type": "code",
   "execution_count": null,
   "metadata": {},
   "outputs": [],
   "source": [
    "### imprimo el ganador total de la batalla\n",
    "if gana_gandalf>gana_saruman:\n",
    "    print(\"Gandalf ganador definitivo\")\n",
    "elif gana_gandalf<gana_saruman:\n",
    "    print(\"Saruman ga\")"
   ]
  }
 ],
 "metadata": {
  "kernelspec": {
   "display_name": "Python 3",
   "language": "python",
   "name": "python3"
  },
  "language_info": {
   "codemirror_mode": {
    "name": "ipython",
    "version": 3
   },
   "file_extension": ".py",
   "mimetype": "text/x-python",
   "name": "python",
   "nbconvert_exporter": "python",
   "pygments_lexer": "ipython3",
   "version": "3.8.3"
  }
 },
 "nbformat": 4,
 "nbformat_minor": 4
}
