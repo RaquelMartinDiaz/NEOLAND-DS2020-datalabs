{
 "cells": [
  {
   "cell_type": "markdown",
   "metadata": {},
   "source": [
    "# Programación 201"
   ]
  },
  {
   "cell_type": "markdown",
   "metadata": {},
   "source": [
    "Librerías científicas en Python: `NumPy`\n",
    "------------------------------------------------------"
   ]
  },
  {
   "cell_type": "markdown",
   "metadata": {},
   "source": [
    "### Ejercicio 1\n",
    "Calculad la norma y el determinante de la siguiente matriz: ```[[1, 0], [2, -1]]```."
   ]
  },
  {
   "cell_type": "code",
   "execution_count": 1,
   "metadata": {},
   "outputs": [],
   "source": [
    "# Respuesta. Lo primero que hacemos es importar la librería NumPy.\n",
    "import numpy as np"
   ]
  },
  {
   "cell_type": "code",
   "execution_count": 2,
   "metadata": {},
   "outputs": [],
   "source": [
    "# Creamos nuestra matriz.\n",
    "matriz = np.array([[1,0], [2,-1]])"
   ]
  },
  {
   "cell_type": "code",
   "execution_count": 3,
   "metadata": {},
   "outputs": [
    {
     "data": {
      "text/plain": [
       "2.449489742783178"
      ]
     },
     "execution_count": 3,
     "metadata": {},
     "output_type": "execute_result"
    }
   ],
   "source": [
    "# Calculamos la norma con linalg.norm\n",
    "\n",
    "np.linalg.norm(matriz)"
   ]
  },
  {
   "cell_type": "code",
   "execution_count": 4,
   "metadata": {},
   "outputs": [
    {
     "data": {
      "text/plain": [
       "-1.0"
      ]
     },
     "execution_count": 4,
     "metadata": {},
     "output_type": "execute_result"
    }
   ],
   "source": [
    "# Y calculamos el determinante con linalg.det\n",
    "\n",
    "np.linalg.det(matriz)"
   ]
  },
  {
   "cell_type": "markdown",
   "metadata": {},
   "source": [
    "### Ejercicio 2 \n",
    "Evaluad las funciones arcoseno y arcocoseno en el intervalo [0,1] y con paso (resolución) de 0.1 y guardadlas en dos _arrays_."
   ]
  },
  {
   "cell_type": "code",
   "execution_count": 5,
   "metadata": {},
   "outputs": [],
   "source": [
    "# Respuesta. Calculo el arcoseno de [0,1] y lo guardo en un array que llamo arcoseno\n",
    "\n",
    "a = [0,1]\n",
    "arcoseno = np.arcsin(a)"
   ]
  },
  {
   "cell_type": "code",
   "execution_count": 6,
   "metadata": {},
   "outputs": [],
   "source": [
    "# Y hago lo mismo con el arcocoseno, guardándolo en otro array del mismo nombre. \n",
    "\n",
    "arcocoseno = np.arccos(a)"
   ]
  },
  {
   "cell_type": "markdown",
   "metadata": {},
   "source": [
    "### Ejercicio 3\n",
    "Generad una lista de 100 valores enteros aleatorios de 0-9. Realizad los siguientes cálculos utilizando métodos de _numpy_:\n",
    "- Media y desviación estándar de los valores de la lista\n",
    "- Valor máximo y mínimo\n",
    "- Sumad todos los valores de la lista\n",
    "- Conseguid una lista de valores únicos"
   ]
  },
  {
   "cell_type": "code",
   "execution_count": 7,
   "metadata": {},
   "outputs": [],
   "source": [
    "# Respuesta. Para generar una lista de valores enteros aleatorios usamos np.random.randint(), donde se define el primer número, el último \n",
    "# y el tamaño de la lista. La voy a guardar en list1\n",
    "\n",
    "list1 = np.random.randint(0,9,100)"
   ]
  },
  {
   "cell_type": "code",
   "execution_count": 8,
   "metadata": {},
   "outputs": [
    {
     "data": {
      "text/plain": [
       "array([7, 2, 1, 8, 0, 1, 1, 7, 2, 0, 1, 8, 8, 3, 6, 8, 1, 5, 6, 3, 8, 3,\n",
       "       7, 1, 1, 2, 7, 3, 6, 5, 5, 5, 0, 8, 3, 6, 3, 8, 5, 0, 8, 0, 4, 0,\n",
       "       5, 1, 5, 8, 0, 1, 5, 3, 1, 1, 2, 5, 1, 3, 7, 4, 5, 8, 7, 1, 7, 3,\n",
       "       6, 6, 4, 5, 5, 3, 6, 7, 8, 7, 3, 1, 7, 1, 5, 2, 4, 8, 6, 4, 8, 6,\n",
       "       0, 6, 0, 3, 4, 1, 8, 6, 3, 6, 6, 6])"
      ]
     },
     "execution_count": 8,
     "metadata": {},
     "output_type": "execute_result"
    }
   ],
   "source": [
    "# Comprobamos los valores de nuestra lista\n",
    "\n",
    "list1"
   ]
  },
  {
   "cell_type": "code",
   "execution_count": 9,
   "metadata": {},
   "outputs": [
    {
     "data": {
      "text/plain": [
       "4.2"
      ]
     },
     "execution_count": 9,
     "metadata": {},
     "output_type": "execute_result"
    }
   ],
   "source": [
    "# calculo la media \n",
    "\n",
    "list1.mean()"
   ]
  },
  {
   "cell_type": "code",
   "execution_count": 10,
   "metadata": {},
   "outputs": [
    {
     "data": {
      "text/plain": [
       "2.6457513110645907"
      ]
     },
     "execution_count": 10,
     "metadata": {},
     "output_type": "execute_result"
    }
   ],
   "source": [
    "# la desviación estandar \n",
    "\n",
    "list1.std()"
   ]
  },
  {
   "cell_type": "code",
   "execution_count": 12,
   "metadata": {},
   "outputs": [
    {
     "data": {
      "text/plain": [
       "0"
      ]
     },
     "execution_count": 12,
     "metadata": {},
     "output_type": "execute_result"
    }
   ],
   "source": [
    "# El valor mínimo\n",
    "\n",
    "np.amin(list1)"
   ]
  },
  {
   "cell_type": "code",
   "execution_count": 13,
   "metadata": {},
   "outputs": [
    {
     "data": {
      "text/plain": [
       "8"
      ]
     },
     "execution_count": 13,
     "metadata": {},
     "output_type": "execute_result"
    }
   ],
   "source": [
    "# El valor máximo \n",
    "\n",
    "np.amax(list1)"
   ]
  },
  {
   "cell_type": "code",
   "execution_count": 15,
   "metadata": {},
   "outputs": [
    {
     "data": {
      "text/plain": [
       "420"
      ]
     },
     "execution_count": 15,
     "metadata": {},
     "output_type": "execute_result"
    }
   ],
   "source": [
    "# sumar todos los valores de la lista\n",
    "\n",
    "np.sum(list1)\n"
   ]
  },
  {
   "cell_type": "code",
   "execution_count": 16,
   "metadata": {},
   "outputs": [
    {
     "data": {
      "text/plain": [
       "array([0, 1, 2, 3, 4, 5, 6, 7, 8])"
      ]
     },
     "execution_count": 16,
     "metadata": {},
     "output_type": "execute_result"
    }
   ],
   "source": [
    "# Conseguir una lista de valores únicos\n",
    "\n",
    "np.unique(list1)"
   ]
  },
  {
   "cell_type": "markdown",
   "metadata": {},
   "source": [
    "### Ejercicio 4\n",
    "Ordenad la matriz bidimensional ```[[5,1,7], [0,7,4], [7,23,1]]``` por filas utilizando como algoritmo de ordenación el [Merge sort](https://en.wikipedia.org/wiki/Merge_sort).\n",
    "\n",
    "**Hint:** No es necesario que implementéis el algoritmo de ordenación a mano, NumPy contiene métodos para realizar diferentes tipos de ordenación sobre diferentes estructuras de datos."
   ]
  },
  {
   "cell_type": "code",
   "execution_count": 17,
   "metadata": {},
   "outputs": [],
   "source": [
    "# Respuesta. Primero creo la matriz:\n",
    "matriz2 = np.array([[5,1,7], [0,7,4], [7,23,1]])\n"
   ]
  },
  {
   "cell_type": "code",
   "execution_count": 25,
   "metadata": {},
   "outputs": [
    {
     "data": {
      "text/plain": [
       "array([[ 0,  1,  1],\n",
       "       [ 5,  7,  4],\n",
       "       [ 7, 23,  7]])"
      ]
     },
     "execution_count": 25,
     "metadata": {},
     "output_type": "execute_result"
    }
   ],
   "source": [
    "# Y ordenamos los valores con sort de numpy. Primero los ordeno por columna con axis=0.\n",
    "np.sort(matriz2, axis= 0, kind=\"mergesort\")"
   ]
  },
  {
   "cell_type": "code",
   "execution_count": 26,
   "metadata": {},
   "outputs": [
    {
     "data": {
      "text/plain": [
       "array([[ 1,  5,  7],\n",
       "       [ 0,  4,  7],\n",
       "       [ 1,  7, 23]])"
      ]
     },
     "execution_count": 26,
     "metadata": {},
     "output_type": "execute_result"
    }
   ],
   "source": [
    "# Y también los ordeno por fila con axis=1\n",
    "np.sort(matriz2, axis= 1, kind=\"mergesort\")"
   ]
  },
  {
   "cell_type": "markdown",
   "metadata": {},
   "source": [
    "### Ejercicio 5\n",
    "Definid una función que dadas dos matrices, devuelva el valor absoluto de la multiplicación de los determinantes ambas, es decir, dadas A y B, nuestra función devolverá `|det(A) * det(B)|`."
   ]
  },
  {
   "cell_type": "code",
   "execution_count": 29,
   "metadata": {},
   "outputs": [
    {
     "data": {
      "text/plain": [
       "45880.00000000004"
      ]
     },
     "execution_count": 29,
     "metadata": {},
     "output_type": "execute_result"
    }
   ],
   "source": [
    "# Respuesta. Primero creamos dos matrices A y B. \n",
    "A=np.array([[5,1,7], [0,7,4], [7,23,1]])\n",
    "B=np.array([[-1,-2,0],[5,2,-2],[12,-7,0]])\n",
    "\n",
    "# Habría que calcular el valor absoluto (np.absolute) de la multiplicación (np.dot) de los determinantes de A y B (np.linalg.det)\n",
    "np.absolute(np.dot(np.linalg.det(A),np.linalg.det(B)))"
   ]
  },
  {
   "cell_type": "markdown",
   "metadata": {},
   "source": [
    "### Ejercicio 6\n",
    "Cread una matriz 10x10 que corresponda con la [matriz identidad](https://es.wikipedia.org/wiki/Matriz_identidad) usando generadores básicos de arrays. Cread una matriz identidad 10x10 (esta vez usando generadores especificos de matrices identidad) y comprobad que ambas matrices son iguales\n",
    "\n",
    "**Consideraciones**:\n",
    "- La primera matriz debe crearse usando constructores básicos de arrays, como los presentados en los Notebooks de teoría.\n",
    "* La segunda matriz debe generarse utilizando el generador de matrices identidad de numpy.\n",
    "* La comparación debe devolver True si las matrices son iguales (un único True), False de no ser así."
   ]
  },
  {
   "cell_type": "code",
   "execution_count": 33,
   "metadata": {},
   "outputs": [
    {
     "data": {
      "text/plain": [
       "[[1, 0, 0, 0, 0, 0, 0, 0, 0, 0],\n",
       " [0, 1, 0, 0, 0, 0, 0, 0, 0, 0],\n",
       " [0, 0, 1, 0, 0, 0, 0, 0, 0, 0],\n",
       " [0, 0, 0, 1, 0, 0, 0, 0, 0, 0],\n",
       " [0, 0, 0, 0, 1, 0, 0, 0, 0, 0],\n",
       " [0, 0, 0, 0, 0, 1, 0, 0, 0, 0],\n",
       " [0, 0, 0, 0, 0, 0, 1, 0, 0, 0],\n",
       " [0, 0, 0, 0, 0, 0, 0, 1, 0, 0],\n",
       " [0, 0, 0, 0, 0, 0, 0, 0, 1, 0],\n",
       " [0, 0, 0, 0, 0, 0, 0, 0, 0, 1]]"
      ]
     },
     "execution_count": 33,
     "metadata": {},
     "output_type": "execute_result"
    }
   ],
   "source": [
    "# Respuesta. Creo una matriz identidad sin usar numpy. Para ello creo una matriz vacía a la que llamo C y hago una función en la que si la posición \n",
    "#(i,j) si i=j sea 1 y si no sea 0. \n",
    "C=[]\n",
    "for i in range(10):\n",
    "    fila=[]\n",
    "    for j in range(10):\n",
    "        if i==j:\n",
    "            num=1\n",
    "        else: num=0\n",
    "        fila.append(num)\n",
    "    C.append(fila)\n",
    "C"
   ]
  },
  {
   "cell_type": "code",
   "execution_count": 34,
   "metadata": {},
   "outputs": [
    {
     "data": {
      "text/plain": [
       "array([[1., 0., 0., 0., 0., 0., 0., 0., 0., 0.],\n",
       "       [0., 1., 0., 0., 0., 0., 0., 0., 0., 0.],\n",
       "       [0., 0., 1., 0., 0., 0., 0., 0., 0., 0.],\n",
       "       [0., 0., 0., 1., 0., 0., 0., 0., 0., 0.],\n",
       "       [0., 0., 0., 0., 1., 0., 0., 0., 0., 0.],\n",
       "       [0., 0., 0., 0., 0., 1., 0., 0., 0., 0.],\n",
       "       [0., 0., 0., 0., 0., 0., 1., 0., 0., 0.],\n",
       "       [0., 0., 0., 0., 0., 0., 0., 1., 0., 0.],\n",
       "       [0., 0., 0., 0., 0., 0., 0., 0., 1., 0.],\n",
       "       [0., 0., 0., 0., 0., 0., 0., 0., 0., 1.]])"
      ]
     },
     "execution_count": 34,
     "metadata": {},
     "output_type": "execute_result"
    }
   ],
   "source": [
    "# Creamos una matriz identidad 10x10 usando el generador de matrices identidad de numpy\n",
    "D= np.identity(10)\n",
    "D"
   ]
  },
  {
   "cell_type": "code",
   "execution_count": 35,
   "metadata": {},
   "outputs": [
    {
     "data": {
      "text/plain": [
       "True"
      ]
     },
     "execution_count": 35,
     "metadata": {},
     "output_type": "execute_result"
    }
   ],
   "source": [
    "# Para comprobor si las matrices son iguales y que salga solo un True, uso all:\n",
    "(C==D).all()"
   ]
  },
  {
   "cell_type": "markdown",
   "metadata": {},
   "source": [
    "### Ejercicio 7\n",
    "Cread una matriz de 2x6 donde los valores de cada posición `(i, j)` correspondan a `i^2+j` para todo `i` par, `i/j^2` para todo `i` impar."
   ]
  },
  {
   "cell_type": "code",
   "execution_count": 68,
   "metadata": {},
   "outputs": [
    {
     "data": {
      "text/plain": [
       "[[2, 3, 4, 5, 6, 7],\n",
       " [2.0, 0.5, 0.2222222222222222, 0.125, 0.08, 0.05555555555555555]]"
      ]
     },
     "execution_count": 68,
     "metadata": {},
     "output_type": "execute_result"
    }
   ],
   "source": [
    "# Respuesta. Como los valores en Python cuentan desde 0 y no desde 1, y no se puede dividir por 0, vamos a forzar los valores añadiéndole 1 \n",
    "# para que sea la posición real y no la de Python. \n",
    "E=[]\n",
    "for i in range(2):\n",
    "    fila=[]\n",
    "    for j in range(6):\n",
    "        if i%2==0:\n",
    "            num=((i+1)**2+(j+1))\n",
    "        else: num=(i+1)/(((j+1)**2))\n",
    "        fila.append(num)\n",
    "    E.append(fila)\n",
    "E"
   ]
  },
  {
   "cell_type": "markdown",
   "metadata": {},
   "source": [
    "### Ejercicio 8\n",
    "Cread dos matrices de tamaño 5x5 con números reales aleatorios. Obtened el resultado de multiplicar ambas matrices usando los dos métodos de multiplicación de matrices vistos en el Notebook de teoría. ¿Cuál es la diferencia entre ambos resultados? Cread ahora dos matrices de tamaño 4x5 y 5x5 respectivamente, repetid la operación. Describid cuál de los métodos de multiplicación podéis aplicar y porqué"
   ]
  },
  {
   "cell_type": "code",
   "execution_count": 89,
   "metadata": {},
   "outputs": [
    {
     "data": {
      "text/plain": [
       "array([[0.76242645, 0.71210399, 0.74741868, 0.28801458, 0.77961487],\n",
       "       [0.46849664, 0.28694407, 0.41997258, 0.61448906, 0.84957207],\n",
       "       [0.86841307, 0.47801286, 0.62770086, 0.88890619, 0.76344929],\n",
       "       [0.34053075, 0.54097432, 0.6440545 , 0.97691959, 0.34635979],\n",
       "       [0.98579959, 0.9481288 , 0.32542057, 0.17947118, 0.25921042]])"
      ]
     },
     "execution_count": 89,
     "metadata": {},
     "output_type": "execute_result"
    }
   ],
   "source": [
    "# Respuesta. Creo 2 matrices de 5X5 aleatorias\n",
    "F= np.random.random((5,5))\n",
    "F"
   ]
  },
  {
   "cell_type": "code",
   "execution_count": 90,
   "metadata": {},
   "outputs": [
    {
     "data": {
      "text/plain": [
       "array([[0.48249913, 0.55884749, 0.50063152, 0.62084357, 0.61291775],\n",
       "       [0.23008606, 0.10802215, 0.25936533, 0.44463962, 0.14433229],\n",
       "       [0.16781179, 0.28992018, 0.7762891 , 0.56237651, 0.83856282],\n",
       "       [0.5212701 , 0.16841268, 0.16310617, 0.62097181, 0.75031909],\n",
       "       [0.31954097, 0.8440923 , 0.95015842, 0.64913813, 0.59301746]])"
      ]
     },
     "execution_count": 90,
     "metadata": {},
     "output_type": "execute_result"
    }
   ],
   "source": [
    "G=np.random.random((5,5))\n",
    "G"
   ]
  },
  {
   "cell_type": "code",
   "execution_count": 91,
   "metadata": {},
   "outputs": [
    {
     "data": {
      "text/plain": [
       "array([[1.05639325, 1.42626708, 1.93433736, 1.89523458, 1.87526989],\n",
       "       [0.95433526, 1.235178  , 1.54244269, 1.58770255, 1.64561254],\n",
       "       [1.3416418 , 1.51305433, 1.91639612, 2.15226607, 2.24732713],\n",
       "       [1.01677149, 0.89235163, 1.29920118, 1.64563093, 1.76527638],\n",
       "       [0.92478938, 0.99669926, 1.26761835, 1.49632176, 1.30232222]])"
      ]
     },
     "execution_count": 91,
     "metadata": {},
     "output_type": "execute_result"
    }
   ],
   "source": [
    "# Multiplico las matrices\n",
    "np.dot(F,G)"
   ]
  },
  {
   "cell_type": "code",
   "execution_count": 97,
   "metadata": {},
   "outputs": [],
   "source": [
    "# otra forma de multiplicarlas        \n",
    "            \n",
    "def multimatriz(F,G):\n",
    "    filasF=len(F)\n",
    "    columnasF=len(F)\n",
    "    columnasG=len(G)\n",
    "    \n",
    "    H =[[0 for j in range(columnasG)] for i in range(filasF)]\n",
    "    \n",
    "    for i in range(filasF):\n",
    "        for j in range(columnasG):\n",
    "            for k in range(columnasF):\n",
    "                H[i][j] += H[i][k] * G[k][j]\n",
    "    return H"
   ]
  },
  {
   "cell_type": "code",
   "execution_count": 95,
   "metadata": {},
   "outputs": [
    {
     "data": {
      "text/plain": [
       "[]"
      ]
     },
     "execution_count": 95,
     "metadata": {},
     "output_type": "execute_result"
    }
   ],
   "source": [
    "H"
   ]
  },
  {
   "cell_type": "markdown",
   "metadata": {},
   "source": [
    "No consigo sacar el código para hacer la multiplicación manual de las matrices, estoy atascada y no sé por qué me sale la matriz resultante vacía. "
   ]
  },
  {
   "cell_type": "code",
   "execution_count": null,
   "metadata": {},
   "outputs": [],
   "source": []
  }
 ],
 "metadata": {
  "kernelspec": {
   "display_name": "Python 3",
   "language": "python",
   "name": "python3"
  },
  "language_info": {
   "codemirror_mode": {
    "name": "ipython",
    "version": 3
   },
   "file_extension": ".py",
   "mimetype": "text/x-python",
   "name": "python",
   "nbconvert_exporter": "python",
   "pygments_lexer": "ipython3",
   "version": "3.8.3"
  }
 },
 "nbformat": 4,
 "nbformat_minor": 4
}
